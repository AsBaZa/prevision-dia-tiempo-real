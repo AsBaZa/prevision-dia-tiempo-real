{
 "cells": [
  {
   "cell_type": "markdown",
   "metadata": {},
   "source": [
    "# Carga de datos a PubSub\n",
    "\n",
    "Este notebook se utilizará como una máquina que está cargando datos de forma continua a PubSub.\n",
    "\n",
    "# TODO (Datos)\n",
    "\n",
    "Empecemos cargando los datos"
   ]
  },
  {
   "cell_type": "code",
   "execution_count": 5,
   "metadata": {
    "ExecuteTime": {
     "end_time": "2019-11-27T13:34:36.700154Z",
     "start_time": "2019-11-27T13:34:36.691156Z"
    }
   },
   "outputs": [],
   "source": [
    "import pandas as pd\n",
    "from datetime import datetime, timedelta\n",
    "import json\n",
    "\n",
    "df = pd.read_csv('TXT_Simulación_TICKETS_2019-12-15.txt', parse_dates=['ticketDate'])"
   ]
  },
  {
   "cell_type": "markdown",
   "metadata": {},
   "source": [
    "Vamos a introducir las credenciales en esta carpeta:\n",
    "\n",
    "```\n",
    "C:\\path_to_repository\\prevision-dia-tiempo-real\\4. Subiendo la App a Heroku\\Subir datos a PubSub /\n",
    "    credentials.json\n",
    "    Carga de datos a PubSub.ipynb\n",
    "```"
   ]
  },
  {
   "cell_type": "code",
   "execution_count": 6,
   "metadata": {
    "ExecuteTime": {
     "end_time": "2019-11-27T13:34:37.196169Z",
     "start_time": "2019-11-27T13:34:37.192176Z"
    }
   },
   "outputs": [
    {
     "name": "stdout",
     "output_type": "stream",
     "text": [
      "env: GOOGLE_APPLICATION_CREDENTIALS=credentials.json\n"
     ]
    }
   ],
   "source": [
    "%env GOOGLE_APPLICATION_CREDENTIALS=credentials.json"
   ]
  },
  {
   "cell_type": "code",
   "execution_count": 7,
   "metadata": {
    "ExecuteTime": {
     "end_time": "2019-11-27T13:34:37.659925Z",
     "start_time": "2019-11-27T13:34:37.651945Z"
    }
   },
   "outputs": [],
   "source": [
    "from google.cloud import pubsub_v1\n",
    "\n",
    "# TODO especificar nuestro 'project_id' y 'topic_name'\n",
    "project_id = ''\n",
    "topic_name = ''\n",
    "\n",
    "# Configure the batch to publish as soon as there is one kilobyte\n",
    "# of data or one second has passed.\n",
    "batch_settings = pubsub_v1.types.BatchSettings(\n",
    "    max_bytes=1024,  # One kilobyte\n",
    "    max_latency=1,   # One second\n",
    ")\n",
    "publisher = pubsub_v1.PublisherClient(batch_settings)\n",
    "topic_path = publisher.topic_path(project_id, topic_name)"
   ]
  },
  {
   "cell_type": "markdown",
   "metadata": {},
   "source": [
    "Vamos a cargar todos los tickets hasta el minuto actual"
   ]
  },
  {
   "cell_type": "code",
   "execution_count": 8,
   "metadata": {
    "ExecuteTime": {
     "end_time": "2019-11-27T13:34:41.290506Z",
     "start_time": "2019-11-27T13:34:41.282498Z"
    }
   },
   "outputs": [],
   "source": [
    "def first_load():\n",
    "    now = datetime.now() + timedelta(days=18)\n",
    "    now -= timedelta(seconds=now.second)\n",
    "    now -= timedelta(microseconds=now.microsecond)\n",
    "    \n",
    "    df_now = df[df['ticketDate'] <= now]\n",
    "    for index, row in df_now.iterrows():\n",
    "        json_values = {}\n",
    "        json_values['amount'] = row['amount']\n",
    "        json_values['ticketDate'] = row['ticketDate'].strftime('%Y-%m-%d %H:%M:%S')\n",
    "        \n",
    "        # Convertir diccionario en JSON\n",
    "        json_values = json.dumps(json_values)\n",
    "        \n",
    "        # Codificar String\n",
    "        json_values = json_values.encode('utf-8')\n",
    "        future = publisher.publish(topic_path, data=json_values)\n",
    "        \n",
    "    print('Mensajes Publicados')"
   ]
  },
  {
   "cell_type": "markdown",
   "metadata": {},
   "source": [
    "para después subirlos minuto a minuto"
   ]
  },
  {
   "cell_type": "code",
   "execution_count": 11,
   "metadata": {
    "ExecuteTime": {
     "end_time": "2019-11-27T13:35:21.081070Z",
     "start_time": "2019-11-27T13:35:21.074061Z"
    }
   },
   "outputs": [],
   "source": [
    "def run():\n",
    "    now = datetime.now() + timedelta(days=18)\n",
    "    now -= timedelta(seconds=now.second)\n",
    "    now -= timedelta(microseconds=now.microsecond)\n",
    "    \n",
    "    df_now = df[df['ticketDate'] == now]\n",
    "    for index, row in df_now.iterrows():\n",
    "        json_values = {}\n",
    "        json_values['amount'] = row['amount']\n",
    "        json_values['ticketDate'] = row['ticketDate'].strftime('%Y-%m-%d %H:%M:%S')\n",
    "        \n",
    "        # Convertir diccionario en JSON\n",
    "        json_values = json.dumps(json_values)\n",
    "        \n",
    "        # Codificar String\n",
    "        json_values = json_values.encode('utf-8')\n",
    "        future = publisher.publish(topic_path, data=json_values)\n",
    "        \n",
    "    print('Mensajes Publicados')"
   ]
  },
  {
   "cell_type": "markdown",
   "metadata": {},
   "source": [
    "Para generar un bucle que se repita cada minuto, vamos a utilizar el módulo `APScheduler` de Python"
   ]
  },
  {
   "cell_type": "code",
   "execution_count": 12,
   "metadata": {
    "ExecuteTime": {
     "end_time": "2019-11-27T13:35:22.191295Z",
     "start_time": "2019-11-27T13:35:22.186308Z"
    }
   },
   "outputs": [
    {
     "data": {
      "text/plain": [
       "<Job (id=6676b63cf967490c9b8abd7c39f45dcb name=run)>"
      ]
     },
     "execution_count": 12,
     "metadata": {},
     "output_type": "execute_result"
    }
   ],
   "source": [
    "from apscheduler.schedulers.blocking import BlockingScheduler\n",
    "\n",
    "sched = BlockingScheduler()\n",
    "sched.add_job(run, 'interval', minutes=1)"
   ]
  },
  {
   "cell_type": "markdown",
   "metadata": {},
   "source": [
    "Ejecutemos..."
   ]
  },
  {
   "cell_type": "code",
   "execution_count": null,
   "metadata": {
    "ExecuteTime": {
     "start_time": "2019-11-27T13:35:22.760Z"
    },
    "scrolled": true
   },
   "outputs": [
    {
     "name": "stdout",
     "output_type": "stream",
     "text": [
      "Mensajes Publicados\n",
      "Mensajes Publicados\n",
      "b'{\"amount\": 11.55, \"ticketDate\": \"2019-12-15 14:36:00\"}'\n",
      "Mensajes Publicados\n",
      "b'{\"amount\": 18.71, \"ticketDate\": \"2019-12-15 14:37:00\"}'\n"
     ]
    },
    {
     "name": "stderr",
     "output_type": "stream",
     "text": [
      "Job \"run (trigger: interval[0:01:00], next run at: 2019-11-27 14:39:22 CET)\" raised an exception\n",
      "Traceback (most recent call last):\n",
      "  File \"C:\\Users\\Asier.Badiola\\AppData\\Local\\Programs\\Python\\Python37\\lib\\site-packages\\apscheduler\\executors\\base.py\", line 125, in run_job\n",
      "    retval = job.func(*job.args, **job.kwargs)\n",
      "  File \"<ipython-input-11-0b9f75692eaa>\", line 20, in run\n",
      "    print(json_values)\n",
      "UnboundLocalError: local variable 'json_values' referenced before assignment\n"
     ]
    },
    {
     "name": "stdout",
     "output_type": "stream",
     "text": [
      "Mensajes Publicados\n"
     ]
    },
    {
     "name": "stderr",
     "output_type": "stream",
     "text": [
      "Job \"run (trigger: interval[0:01:00], next run at: 2019-11-27 14:40:22 CET)\" raised an exception\n",
      "Traceback (most recent call last):\n",
      "  File \"C:\\Users\\Asier.Badiola\\AppData\\Local\\Programs\\Python\\Python37\\lib\\site-packages\\apscheduler\\executors\\base.py\", line 125, in run_job\n",
      "    retval = job.func(*job.args, **job.kwargs)\n",
      "  File \"<ipython-input-11-0b9f75692eaa>\", line 20, in run\n",
      "    print(json_values)\n",
      "UnboundLocalError: local variable 'json_values' referenced before assignment\n"
     ]
    },
    {
     "name": "stdout",
     "output_type": "stream",
     "text": [
      "Mensajes Publicados\n"
     ]
    },
    {
     "name": "stderr",
     "output_type": "stream",
     "text": [
      "Job \"run (trigger: interval[0:01:00], next run at: 2019-11-27 14:41:22 CET)\" raised an exception\n",
      "Traceback (most recent call last):\n",
      "  File \"C:\\Users\\Asier.Badiola\\AppData\\Local\\Programs\\Python\\Python37\\lib\\site-packages\\apscheduler\\executors\\base.py\", line 125, in run_job\n",
      "    retval = job.func(*job.args, **job.kwargs)\n",
      "  File \"<ipython-input-11-0b9f75692eaa>\", line 20, in run\n",
      "    print(json_values)\n",
      "UnboundLocalError: local variable 'json_values' referenced before assignment\n"
     ]
    },
    {
     "name": "stdout",
     "output_type": "stream",
     "text": [
      "Mensajes Publicados\n",
      "Mensajes Publicados\n",
      "b'{\"amount\": 2.94, \"ticketDate\": \"2019-12-15 14:41:00\"}'\n"
     ]
    },
    {
     "name": "stderr",
     "output_type": "stream",
     "text": [
      "Job \"run (trigger: interval[0:01:00], next run at: 2019-11-27 14:42:22 CET)\" raised an exception\n",
      "Traceback (most recent call last):\n",
      "  File \"C:\\Users\\Asier.Badiola\\AppData\\Local\\Programs\\Python\\Python37\\lib\\site-packages\\apscheduler\\executors\\base.py\", line 125, in run_job\n",
      "    retval = job.func(*job.args, **job.kwargs)\n",
      "  File \"<ipython-input-11-0b9f75692eaa>\", line 20, in run\n",
      "    print(json_values)\n",
      "UnboundLocalError: local variable 'json_values' referenced before assignment\n"
     ]
    },
    {
     "name": "stdout",
     "output_type": "stream",
     "text": [
      "Mensajes Publicados\n"
     ]
    },
    {
     "name": "stderr",
     "output_type": "stream",
     "text": [
      "Job \"run (trigger: interval[0:01:00], next run at: 2019-11-27 14:44:22 CET)\" raised an exception\n",
      "Traceback (most recent call last):\n",
      "  File \"C:\\Users\\Asier.Badiola\\AppData\\Local\\Programs\\Python\\Python37\\lib\\site-packages\\apscheduler\\executors\\base.py\", line 125, in run_job\n",
      "    retval = job.func(*job.args, **job.kwargs)\n",
      "  File \"<ipython-input-11-0b9f75692eaa>\", line 20, in run\n",
      "    print(json_values)\n",
      "UnboundLocalError: local variable 'json_values' referenced before assignment\n"
     ]
    },
    {
     "name": "stdout",
     "output_type": "stream",
     "text": [
      "Mensajes Publicados\n"
     ]
    },
    {
     "name": "stderr",
     "output_type": "stream",
     "text": [
      "Job \"run (trigger: interval[0:01:00], next run at: 2019-11-27 14:45:22 CET)\" raised an exception\n",
      "Traceback (most recent call last):\n",
      "  File \"C:\\Users\\Asier.Badiola\\AppData\\Local\\Programs\\Python\\Python37\\lib\\site-packages\\apscheduler\\executors\\base.py\", line 125, in run_job\n",
      "    retval = job.func(*job.args, **job.kwargs)\n",
      "  File \"<ipython-input-11-0b9f75692eaa>\", line 20, in run\n",
      "    print(json_values)\n",
      "UnboundLocalError: local variable 'json_values' referenced before assignment\n"
     ]
    },
    {
     "name": "stdout",
     "output_type": "stream",
     "text": [
      "Mensajes Publicados\n"
     ]
    },
    {
     "name": "stderr",
     "output_type": "stream",
     "text": [
      "Job \"run (trigger: interval[0:01:00], next run at: 2019-11-27 14:46:22 CET)\" raised an exception\n",
      "Traceback (most recent call last):\n",
      "  File \"C:\\Users\\Asier.Badiola\\AppData\\Local\\Programs\\Python\\Python37\\lib\\site-packages\\apscheduler\\executors\\base.py\", line 125, in run_job\n",
      "    retval = job.func(*job.args, **job.kwargs)\n",
      "  File \"<ipython-input-11-0b9f75692eaa>\", line 20, in run\n",
      "    print(json_values)\n",
      "UnboundLocalError: local variable 'json_values' referenced before assignment\n"
     ]
    },
    {
     "name": "stdout",
     "output_type": "stream",
     "text": [
      "Mensajes Publicados\n"
     ]
    },
    {
     "name": "stderr",
     "output_type": "stream",
     "text": [
      "Job \"run (trigger: interval[0:01:00], next run at: 2019-11-27 14:47:22 CET)\" raised an exception\n",
      "Traceback (most recent call last):\n",
      "  File \"C:\\Users\\Asier.Badiola\\AppData\\Local\\Programs\\Python\\Python37\\lib\\site-packages\\apscheduler\\executors\\base.py\", line 125, in run_job\n",
      "    retval = job.func(*job.args, **job.kwargs)\n",
      "  File \"<ipython-input-11-0b9f75692eaa>\", line 20, in run\n",
      "    print(json_values)\n",
      "UnboundLocalError: local variable 'json_values' referenced before assignment\n"
     ]
    },
    {
     "name": "stdout",
     "output_type": "stream",
     "text": [
      "Mensajes Publicados\n"
     ]
    },
    {
     "name": "stderr",
     "output_type": "stream",
     "text": [
      "Job \"run (trigger: interval[0:01:00], next run at: 2019-11-27 14:48:22 CET)\" raised an exception\n",
      "Traceback (most recent call last):\n",
      "  File \"C:\\Users\\Asier.Badiola\\AppData\\Local\\Programs\\Python\\Python37\\lib\\site-packages\\apscheduler\\executors\\base.py\", line 125, in run_job\n",
      "    retval = job.func(*job.args, **job.kwargs)\n",
      "  File \"<ipython-input-11-0b9f75692eaa>\", line 20, in run\n",
      "    print(json_values)\n",
      "UnboundLocalError: local variable 'json_values' referenced before assignment\n"
     ]
    },
    {
     "name": "stdout",
     "output_type": "stream",
     "text": [
      "Mensajes Publicados\n"
     ]
    },
    {
     "name": "stderr",
     "output_type": "stream",
     "text": [
      "Job \"run (trigger: interval[0:01:00], next run at: 2019-11-27 14:49:22 CET)\" raised an exception\n",
      "Traceback (most recent call last):\n",
      "  File \"C:\\Users\\Asier.Badiola\\AppData\\Local\\Programs\\Python\\Python37\\lib\\site-packages\\apscheduler\\executors\\base.py\", line 125, in run_job\n",
      "    retval = job.func(*job.args, **job.kwargs)\n",
      "  File \"<ipython-input-11-0b9f75692eaa>\", line 20, in run\n",
      "    print(json_values)\n",
      "UnboundLocalError: local variable 'json_values' referenced before assignment\n"
     ]
    },
    {
     "name": "stdout",
     "output_type": "stream",
     "text": [
      "Mensajes Publicados\n"
     ]
    }
   ],
   "source": [
    "first_load()\n",
    "sched.start()"
   ]
  }
 ],
 "metadata": {
  "@webio": {
   "lastCommId": null,
   "lastKernelId": null
  },
  "hide_input": false,
  "kernelspec": {
   "display_name": "Python 3.7.3",
   "language": "python",
   "name": "python_3.7.3"
  },
  "language_info": {
   "codemirror_mode": {
    "name": "ipython",
    "version": 3
   },
   "file_extension": ".py",
   "mimetype": "text/x-python",
   "name": "python",
   "nbconvert_exporter": "python",
   "pygments_lexer": "ipython3",
   "version": "3.7.3"
  },
  "varInspector": {
   "cols": {
    "lenName": 16,
    "lenType": 16,
    "lenVar": 40
   },
   "kernels_config": {
    "python": {
     "delete_cmd_postfix": "",
     "delete_cmd_prefix": "del ",
     "library": "var_list.py",
     "varRefreshCmd": "print(var_dic_list())"
    },
    "r": {
     "delete_cmd_postfix": ") ",
     "delete_cmd_prefix": "rm(",
     "library": "var_list.r",
     "varRefreshCmd": "cat(var_dic_list()) "
    }
   },
   "types_to_exclude": [
    "module",
    "function",
    "builtin_function_or_method",
    "instance",
    "_Feature"
   ],
   "window_display": true
  }
 },
 "nbformat": 4,
 "nbformat_minor": 2
}
